{
 "cells": [
  {
   "cell_type": "code",
   "execution_count": 42,
   "metadata": {},
   "outputs": [],
   "source": [
    "import numpy as np\n",
    "import pandas as pd\n",
    "import tensorflow as tf\n",
    "from tensorflow import keras\n",
    "from tensorflow.keras import layers"
   ]
  },
  {
   "cell_type": "markdown",
   "metadata": {},
   "source": [
    "### Additional Preprocessing\n",
    "\n",
    "The format of the data for an RNN or HMM is: num_samples $\\times$ time_series_length $\\times$ num_features. \n",
    "\n",
    "In our case, this means that the format should be:\n",
    "\n",
    "number of schools $\\times$ 3 years of data $\\times$ number of school features\n",
    "\n",
    "Since our current preprocessed dataframe is 2-dimensional, we will need to do some additional preprocessing to ensure that our data is of the correct shape. "
   ]
  },
  {
   "cell_type": "code",
   "execution_count": 43,
   "metadata": {},
   "outputs": [],
   "source": [
    "df = pd.read_csv(\"./preprocessed_data/2016-19ChronAbsenteeism.csv\", sep=\",\")\n",
    "df = df.drop([\"Unnamed: 0\"], axis=1)"
   ]
  },
  {
   "cell_type": "code",
   "execution_count": 44,
   "metadata": {},
   "outputs": [],
   "source": [
    "def get_indices_where_new_schools_start(df):\n",
    "    \"\"\"\n",
    "    Returns a list of the row indices for which new schools' data starts. For example, if\n",
    "    data for school 1 takes up rows 0-2, data for school 2 takes up rows 3-4, and data for \n",
    "    school 3 takes up rows 5-7, then this function would return this list [0,3,5].\n",
    "    Input:\n",
    "    df: merged dataframe output from Preprocessing script\n",
    "    Output:\n",
    "    new_school_indices: Python list of row indices for which a new schools' data starts\n",
    "    \"\"\"\n",
    "    schools = df[\"SchoolCode\"] \n",
    "    i, new_school_indices = 0, []\n",
    "    current_school = schools[i]\n",
    "    while i < df.shape[0]-1: \n",
    "        while i < df.shape[0]-1 and current_school == schools[i]:\n",
    "            i += 1\n",
    "        # inner while loop terminates whenever a new school is hit, so we append that index \n",
    "        # and reset the current_school\n",
    "        new_school_indices.append(i)\n",
    "        current_school = schools[i]\n",
    "    return new_school_indices"
   ]
  },
  {
   "cell_type": "code",
   "execution_count": 45,
   "metadata": {},
   "outputs": [],
   "source": [
    "new_school_indices = get_indices_where_new_schools_start(df)"
   ]
  },
  {
   "cell_type": "code",
   "execution_count": 46,
   "metadata": {},
   "outputs": [],
   "source": [
    "def stack_data(df, time_series_length):\n",
    "    \"\"\"\n",
    "    Stacks a 2-dimensional data frame into a 3-dimensional NumPy array of shape:\n",
    "    num_schools x time_series_length x num_features. Uses get_indices_where_new_schools_start()\n",
    "    above to determine how to divide input df.\n",
    "    Inputs:\n",
    "    df: merged dataframe output from Preprocessing script\n",
    "    time_series_length: the number of years of data we have for each school \n",
    "    Outputs:\n",
    "    master_data: 3-dimensional NumPy array with shape described above\n",
    "    \"\"\"\n",
    "    array = df.to_numpy() #convert input dataframe to numpy array \n",
    "    new_school_indices = get_indices_where_new_schools_start(df) #get output of get_indices_where_new_schools_start()\n",
    "    for i, idx in enumerate(new_school_indices): \n",
    "        if i < len(new_school_indices)-1: #check to avoid indexing errors \n",
    "            #rows_to_fill = number of rows that need to be filled with dummy data \n",
    "            #if we have time_series_length years of data for some school, then rows_to_fill = 0\n",
    "            rows_to_fill = time_series_length - (new_school_indices[i+1] - idx)\n",
    "s            if rows_to_fill > 0:\n",
    "                fill_data = np.zeros((rows_to_fill,sub_df.shape[1])) #create fill_data to fill missing data\n",
    "                sub_df = np.vstack([sub_df, fill_data]) #stack real data with fill data\n",
    "            if i == 0: #for first iteration of for loop, need to initialize master_data\n",
    "                master_data = np.expand_dims(sub_df,axis=0)\n",
    "            else: #for all other iterations, we need to concatenate the next schools data\n",
    "                master_data = np.concatenate((master_data,np.expand_dims(sub_df,axis=0)))\n",
    "    return master_data"
   ]
  },
  {
   "cell_type": "code",
   "execution_count": 50,
   "metadata": {},
   "outputs": [],
   "source": [
    "master = stack_data(df,3)"
   ]
  },
  {
   "cell_type": "code",
   "execution_count": 51,
   "metadata": {},
   "outputs": [
    {
     "name": "stdout",
     "output_type": "stream",
     "text": [
      "(2241, 3, 29)\n"
     ]
    }
   ],
   "source": [
    "print(master.shape)"
   ]
  },
  {
   "cell_type": "code",
   "execution_count": 52,
   "metadata": {},
   "outputs": [
    {
     "data": {
      "text/plain": [
       "2241"
      ]
     },
     "execution_count": 52,
     "metadata": {},
     "output_type": "execute_result"
    }
   ],
   "source": [
    "master.shape[0]"
   ]
  },
  {
   "cell_type": "markdown",
   "metadata": {},
   "source": [
    "As we can see, the shape of the data above is what we desired. We have data for 2241 schools, 3 timesteps (2016, 2017, and 2018). We have 29 school features for each year."
   ]
  },
  {
   "cell_type": "code",
   "execution_count": null,
   "metadata": {},
   "outputs": [],
   "source": []
  }
 ],
 "metadata": {
  "kernelspec": {
   "display_name": "Python 3 (ipykernel)",
   "language": "python",
   "name": "python3"
  },
  "language_info": {
   "codemirror_mode": {
    "name": "ipython",
    "version": 3
   },
   "file_extension": ".py",
   "mimetype": "text/x-python",
   "name": "python",
   "nbconvert_exporter": "python",
   "pygments_lexer": "ipython3",
   "version": "3.9.7"
  }
 },
 "nbformat": 4,
 "nbformat_minor": 4
}
